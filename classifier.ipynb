{
 "cells": [
  {
   "cell_type": "code",
   "execution_count": 1,
   "id": "electric-brush",
   "metadata": {},
   "outputs": [],
   "source": [
    "from keras.applications import MobileNet\n",
    "import matplotlib.pyplot as plt\n",
    "from sklearn.metrics import confusion_matrix\n",
    "import numpy as np\n",
    "\n",
    "\n",
    "img_rows, img_cols = 224, 224\n",
    "\n",
    "MobileNet = MobileNet(weights = 'imagenet',\n",
    "                     include_top = False,\n",
    "                     input_shape = (img_rows, img_cols, 3),\n",
    "                     alpha=0.25\n",
    "                     )\n",
    "\n",
    "for layer in MobileNet.layers:\n",
    "    layer.trainable = False"
   ]
  },
  {
   "cell_type": "code",
   "execution_count": 2,
   "id": "suspended-nicholas",
   "metadata": {},
   "outputs": [],
   "source": [
    "def addTopModelMobileNet(bottom_model, num_classes):\n",
    "    \n",
    "    top_model = bottom_model.output\n",
    "    top_model = BatchNormalization()(top_model)\n",
    "    top_model = GlobalAveragePooling2D()(top_model)\n",
    "    top_model = Dropout(0.5)(top_model)\n",
    "    top_model = Dense(64,activation = 'relu')(top_model)\n",
    "    top_model = Dropout(0.25)(top_model)\n",
    "    top_model = Dense(32, activation = 'relu')(top_model)\n",
    "    top_model = Dense(num_classes, activation = 'softmax')(top_model)\n",
    "    \n",
    "    return top_model\n",
    "    "
   ]
  },
  {
   "cell_type": "code",
   "execution_count": 3,
   "id": "musical-simon",
   "metadata": {},
   "outputs": [
    {
     "name": "stdout",
     "output_type": "stream",
     "text": [
      "Model: \"functional_1\"\n",
      "_________________________________________________________________\n",
      "Layer (type)                 Output Shape              Param #   \n",
      "=================================================================\n",
      "input_1 (InputLayer)         [(None, 224, 224, 3)]     0         \n",
      "_________________________________________________________________\n",
      "conv1_pad (ZeroPadding2D)    (None, 225, 225, 3)       0         \n",
      "_________________________________________________________________\n",
      "conv1 (Conv2D)               (None, 112, 112, 8)       216       \n",
      "_________________________________________________________________\n",
      "conv1_bn (BatchNormalization (None, 112, 112, 8)       32        \n",
      "_________________________________________________________________\n",
      "conv1_relu (ReLU)            (None, 112, 112, 8)       0         \n",
      "_________________________________________________________________\n",
      "conv_dw_1 (DepthwiseConv2D)  (None, 112, 112, 8)       72        \n",
      "_________________________________________________________________\n",
      "conv_dw_1_bn (BatchNormaliza (None, 112, 112, 8)       32        \n",
      "_________________________________________________________________\n",
      "conv_dw_1_relu (ReLU)        (None, 112, 112, 8)       0         \n",
      "_________________________________________________________________\n",
      "conv_pw_1 (Conv2D)           (None, 112, 112, 16)      128       \n",
      "_________________________________________________________________\n",
      "conv_pw_1_bn (BatchNormaliza (None, 112, 112, 16)      64        \n",
      "_________________________________________________________________\n",
      "conv_pw_1_relu (ReLU)        (None, 112, 112, 16)      0         \n",
      "_________________________________________________________________\n",
      "conv_pad_2 (ZeroPadding2D)   (None, 113, 113, 16)      0         \n",
      "_________________________________________________________________\n",
      "conv_dw_2 (DepthwiseConv2D)  (None, 56, 56, 16)        144       \n",
      "_________________________________________________________________\n",
      "conv_dw_2_bn (BatchNormaliza (None, 56, 56, 16)        64        \n",
      "_________________________________________________________________\n",
      "conv_dw_2_relu (ReLU)        (None, 56, 56, 16)        0         \n",
      "_________________________________________________________________\n",
      "conv_pw_2 (Conv2D)           (None, 56, 56, 32)        512       \n",
      "_________________________________________________________________\n",
      "conv_pw_2_bn (BatchNormaliza (None, 56, 56, 32)        128       \n",
      "_________________________________________________________________\n",
      "conv_pw_2_relu (ReLU)        (None, 56, 56, 32)        0         \n",
      "_________________________________________________________________\n",
      "conv_dw_3 (DepthwiseConv2D)  (None, 56, 56, 32)        288       \n",
      "_________________________________________________________________\n",
      "conv_dw_3_bn (BatchNormaliza (None, 56, 56, 32)        128       \n",
      "_________________________________________________________________\n",
      "conv_dw_3_relu (ReLU)        (None, 56, 56, 32)        0         \n",
      "_________________________________________________________________\n",
      "conv_pw_3 (Conv2D)           (None, 56, 56, 32)        1024      \n",
      "_________________________________________________________________\n",
      "conv_pw_3_bn (BatchNormaliza (None, 56, 56, 32)        128       \n",
      "_________________________________________________________________\n",
      "conv_pw_3_relu (ReLU)        (None, 56, 56, 32)        0         \n",
      "_________________________________________________________________\n",
      "conv_pad_4 (ZeroPadding2D)   (None, 57, 57, 32)        0         \n",
      "_________________________________________________________________\n",
      "conv_dw_4 (DepthwiseConv2D)  (None, 28, 28, 32)        288       \n",
      "_________________________________________________________________\n",
      "conv_dw_4_bn (BatchNormaliza (None, 28, 28, 32)        128       \n",
      "_________________________________________________________________\n",
      "conv_dw_4_relu (ReLU)        (None, 28, 28, 32)        0         \n",
      "_________________________________________________________________\n",
      "conv_pw_4 (Conv2D)           (None, 28, 28, 64)        2048      \n",
      "_________________________________________________________________\n",
      "conv_pw_4_bn (BatchNormaliza (None, 28, 28, 64)        256       \n",
      "_________________________________________________________________\n",
      "conv_pw_4_relu (ReLU)        (None, 28, 28, 64)        0         \n",
      "_________________________________________________________________\n",
      "conv_dw_5 (DepthwiseConv2D)  (None, 28, 28, 64)        576       \n",
      "_________________________________________________________________\n",
      "conv_dw_5_bn (BatchNormaliza (None, 28, 28, 64)        256       \n",
      "_________________________________________________________________\n",
      "conv_dw_5_relu (ReLU)        (None, 28, 28, 64)        0         \n",
      "_________________________________________________________________\n",
      "conv_pw_5 (Conv2D)           (None, 28, 28, 64)        4096      \n",
      "_________________________________________________________________\n",
      "conv_pw_5_bn (BatchNormaliza (None, 28, 28, 64)        256       \n",
      "_________________________________________________________________\n",
      "conv_pw_5_relu (ReLU)        (None, 28, 28, 64)        0         \n",
      "_________________________________________________________________\n",
      "conv_pad_6 (ZeroPadding2D)   (None, 29, 29, 64)        0         \n",
      "_________________________________________________________________\n",
      "conv_dw_6 (DepthwiseConv2D)  (None, 14, 14, 64)        576       \n",
      "_________________________________________________________________\n",
      "conv_dw_6_bn (BatchNormaliza (None, 14, 14, 64)        256       \n",
      "_________________________________________________________________\n",
      "conv_dw_6_relu (ReLU)        (None, 14, 14, 64)        0         \n",
      "_________________________________________________________________\n",
      "conv_pw_6 (Conv2D)           (None, 14, 14, 128)       8192      \n",
      "_________________________________________________________________\n",
      "conv_pw_6_bn (BatchNormaliza (None, 14, 14, 128)       512       \n",
      "_________________________________________________________________\n",
      "conv_pw_6_relu (ReLU)        (None, 14, 14, 128)       0         \n",
      "_________________________________________________________________\n",
      "conv_dw_7 (DepthwiseConv2D)  (None, 14, 14, 128)       1152      \n",
      "_________________________________________________________________\n",
      "conv_dw_7_bn (BatchNormaliza (None, 14, 14, 128)       512       \n",
      "_________________________________________________________________\n",
      "conv_dw_7_relu (ReLU)        (None, 14, 14, 128)       0         \n",
      "_________________________________________________________________\n",
      "conv_pw_7 (Conv2D)           (None, 14, 14, 128)       16384     \n",
      "_________________________________________________________________\n",
      "conv_pw_7_bn (BatchNormaliza (None, 14, 14, 128)       512       \n",
      "_________________________________________________________________\n",
      "conv_pw_7_relu (ReLU)        (None, 14, 14, 128)       0         \n",
      "_________________________________________________________________\n",
      "conv_dw_8 (DepthwiseConv2D)  (None, 14, 14, 128)       1152      \n",
      "_________________________________________________________________\n",
      "conv_dw_8_bn (BatchNormaliza (None, 14, 14, 128)       512       \n",
      "_________________________________________________________________\n",
      "conv_dw_8_relu (ReLU)        (None, 14, 14, 128)       0         \n",
      "_________________________________________________________________\n",
      "conv_pw_8 (Conv2D)           (None, 14, 14, 128)       16384     \n",
      "_________________________________________________________________\n",
      "conv_pw_8_bn (BatchNormaliza (None, 14, 14, 128)       512       \n",
      "_________________________________________________________________\n",
      "conv_pw_8_relu (ReLU)        (None, 14, 14, 128)       0         \n",
      "_________________________________________________________________\n",
      "conv_dw_9 (DepthwiseConv2D)  (None, 14, 14, 128)       1152      \n",
      "_________________________________________________________________\n",
      "conv_dw_9_bn (BatchNormaliza (None, 14, 14, 128)       512       \n",
      "_________________________________________________________________\n",
      "conv_dw_9_relu (ReLU)        (None, 14, 14, 128)       0         \n",
      "_________________________________________________________________\n",
      "conv_pw_9 (Conv2D)           (None, 14, 14, 128)       16384     \n",
      "_________________________________________________________________\n",
      "conv_pw_9_bn (BatchNormaliza (None, 14, 14, 128)       512       \n",
      "_________________________________________________________________\n",
      "conv_pw_9_relu (ReLU)        (None, 14, 14, 128)       0         \n",
      "_________________________________________________________________\n",
      "conv_dw_10 (DepthwiseConv2D) (None, 14, 14, 128)       1152      \n",
      "_________________________________________________________________\n",
      "conv_dw_10_bn (BatchNormaliz (None, 14, 14, 128)       512       \n",
      "_________________________________________________________________\n",
      "conv_dw_10_relu (ReLU)       (None, 14, 14, 128)       0         \n",
      "_________________________________________________________________\n",
      "conv_pw_10 (Conv2D)          (None, 14, 14, 128)       16384     \n",
      "_________________________________________________________________\n",
      "conv_pw_10_bn (BatchNormaliz (None, 14, 14, 128)       512       \n",
      "_________________________________________________________________\n",
      "conv_pw_10_relu (ReLU)       (None, 14, 14, 128)       0         \n",
      "_________________________________________________________________\n",
      "conv_dw_11 (DepthwiseConv2D) (None, 14, 14, 128)       1152      \n",
      "_________________________________________________________________\n",
      "conv_dw_11_bn (BatchNormaliz (None, 14, 14, 128)       512       \n",
      "_________________________________________________________________\n",
      "conv_dw_11_relu (ReLU)       (None, 14, 14, 128)       0         \n",
      "_________________________________________________________________\n",
      "conv_pw_11 (Conv2D)          (None, 14, 14, 128)       16384     \n",
      "_________________________________________________________________\n",
      "conv_pw_11_bn (BatchNormaliz (None, 14, 14, 128)       512       \n",
      "_________________________________________________________________\n",
      "conv_pw_11_relu (ReLU)       (None, 14, 14, 128)       0         \n",
      "_________________________________________________________________\n",
      "conv_pad_12 (ZeroPadding2D)  (None, 15, 15, 128)       0         \n",
      "_________________________________________________________________\n",
      "conv_dw_12 (DepthwiseConv2D) (None, 7, 7, 128)         1152      \n",
      "_________________________________________________________________\n",
      "conv_dw_12_bn (BatchNormaliz (None, 7, 7, 128)         512       \n",
      "_________________________________________________________________\n",
      "conv_dw_12_relu (ReLU)       (None, 7, 7, 128)         0         \n",
      "_________________________________________________________________\n",
      "conv_pw_12 (Conv2D)          (None, 7, 7, 256)         32768     \n",
      "_________________________________________________________________\n",
      "conv_pw_12_bn (BatchNormaliz (None, 7, 7, 256)         1024      \n",
      "_________________________________________________________________\n",
      "conv_pw_12_relu (ReLU)       (None, 7, 7, 256)         0         \n",
      "_________________________________________________________________\n",
      "conv_dw_13 (DepthwiseConv2D) (None, 7, 7, 256)         2304      \n",
      "_________________________________________________________________\n",
      "conv_dw_13_bn (BatchNormaliz (None, 7, 7, 256)         1024      \n",
      "_________________________________________________________________\n",
      "conv_dw_13_relu (ReLU)       (None, 7, 7, 256)         0         \n",
      "_________________________________________________________________\n",
      "conv_pw_13 (Conv2D)          (None, 7, 7, 256)         65536     \n",
      "_________________________________________________________________\n",
      "conv_pw_13_bn (BatchNormaliz (None, 7, 7, 256)         1024      \n",
      "_________________________________________________________________\n",
      "conv_pw_13_relu (ReLU)       (None, 7, 7, 256)         0         \n",
      "_________________________________________________________________\n",
      "batch_normalization (BatchNo (None, 7, 7, 256)         1024      \n",
      "_________________________________________________________________\n",
      "global_average_pooling2d (Gl (None, 256)               0         \n",
      "_________________________________________________________________\n",
      "dropout (Dropout)            (None, 256)               0         \n",
      "_________________________________________________________________\n",
      "dense (Dense)                (None, 64)                16448     \n",
      "_________________________________________________________________\n",
      "dropout_1 (Dropout)          (None, 64)                0         \n",
      "_________________________________________________________________\n",
      "dense_1 (Dense)              (None, 32)                2080      \n",
      "_________________________________________________________________\n",
      "dense_2 (Dense)              (None, 3)                 99        \n",
      "=================================================================\n",
      "Total params: 238,195\n",
      "Trainable params: 19,139\n",
      "Non-trainable params: 219,056\n",
      "_________________________________________________________________\n",
      "None\n"
     ]
    }
   ],
   "source": [
    "from keras.models import Sequential\n",
    "from keras.layers import Dense, Dropout, Activation, Flatten, GlobalAveragePooling2D\n",
    "from keras.layers import Conv2D, MaxPooling2D, ZeroPadding2D\n",
    "from keras.layers.normalization import BatchNormalization\n",
    "from keras.models import Model\n",
    "from keras.regularizers import l1, l2\n",
    "\n",
    "num_classes = 3\n",
    "\n",
    "FC_Head = addTopModelMobileNet(MobileNet, num_classes)\n",
    "\n",
    "model = Model(inputs = MobileNet.input, outputs = FC_Head)\n",
    "\n",
    "print(model.summary())"
   ]
  },
  {
   "cell_type": "code",
   "execution_count": 4,
   "id": "important-touch",
   "metadata": {},
   "outputs": [],
   "source": [
    "from keras.preprocessing.image import ImageDataGenerator\n",
    "\n",
    "data_dir = './data/train'\n",
    "test_dir = './data/test'"
   ]
  },
  {
   "cell_type": "code",
   "execution_count": 5,
   "id": "together-meeting",
   "metadata": {},
   "outputs": [
    {
     "name": "stdout",
     "output_type": "stream",
     "text": [
      "Found 204 images belonging to 3 classes.\n",
      "Found 51 images belonging to 3 classes.\n",
      "Found 15 images belonging to 3 classes.\n"
     ]
    }
   ],
   "source": [
    "datagen = ImageDataGenerator(\n",
    "    validation_split = 0.2,\n",
    "    rescale = 1./255,\n",
    "    rotation_range = 45\n",
    "    \n",
    "    #width_shift_range = 0.3,\n",
    "    #height_shift_range = 0.3,\n",
    "    #horizontal_flip = False,\n",
    "    #fill_mode = 'nearest'\n",
    ")\n",
    "\n",
    "\n",
    "batch_size = 16\n",
    "\n",
    "train_generator = datagen.flow_from_directory(\n",
    "    data_dir,\n",
    "    subset ='training',\n",
    "    target_size = (img_rows, img_cols),\n",
    "    batch_size = batch_size,\n",
    "    class_mode = 'categorical'\n",
    ")\n",
    "\n",
    "validation_generator = datagen.flow_from_directory(\n",
    "    data_dir,\n",
    "    subset = 'validation',\n",
    "    target_size = (img_rows, img_cols),\n",
    "    batch_size = batch_size,\n",
    "    class_mode = 'categorical'\n",
    ")\n",
    "\n",
    "\n",
    "test_datagen = ImageDataGenerator( rescale = 1./255 )\n",
    "\n",
    "test_batches = test_datagen.flow_from_directory(test_dir, \n",
    "                                                target_size=(img_rows,img_cols),\n",
    "                                                shuffle = False\n",
    "                                               )\n",
    "                                                                                             "
   ]
  },
  {
   "cell_type": "code",
   "execution_count": 6,
   "id": "welcome-bonus",
   "metadata": {},
   "outputs": [],
   "source": [
    "from keras.optimizers import RMSprop, SGD, Adam, Nadam\n",
    "from keras.callbacks import ModelCheckpoint, EarlyStopping\n",
    "from keras.metrics import categorical_crossentropy\n",
    "\n",
    "checkpoint = ModelCheckpoint(\"./model/tea.h5\",\n",
    "                            monitor = 'val_loss',\n",
    "                            mode = 'min',\n",
    "                            save_best_only = True,\n",
    "                            verbose = 1\n",
    "                            )\n",
    "\n",
    "earlystop = EarlyStopping(monitor = \"val_loss\",\n",
    "                         min_delta = 0,\n",
    "                         patience = 5,\n",
    "                         verbose = 1,\n",
    "                         restore_best_weights = True\n",
    "                         )\n",
    "\n",
    "callbacks = [earlystop, checkpoint]\n",
    "\n",
    "model.compile(loss = 'categorical_crossentropy',\n",
    "              optimizer = Nadam(lr = 0.001, beta_1 = 0.99, beta_2 = 0.999, epsilon = 1e-07),\n",
    "              metrics = ['accuracy']\n",
    "             )"
   ]
  },
  {
   "cell_type": "code",
   "execution_count": 7,
   "id": "korean-equality",
   "metadata": {},
   "outputs": [
    {
     "name": "stdout",
     "output_type": "stream",
     "text": [
      "WARNING:tensorflow:From <ipython-input-7-8281f4513a05>:14: Model.fit_generator (from tensorflow.python.keras.engine.training) is deprecated and will be removed in a future version.\n",
      "Instructions for updating:\n",
      "Please use Model.fit, which supports generators.\n",
      "Epoch 1/50\n",
      "12/12 [==============================] - ETA: 0s - loss: 1.0769 - accuracy: 0.3883\n",
      "Epoch 00001: val_loss improved from inf to 1.02711, saving model to ./model\\tea.h5\n",
      "12/12 [==============================] - 7s 543ms/step - loss: 1.0769 - accuracy: 0.3883 - val_loss: 1.0271 - val_accuracy: 0.5000\n",
      "Epoch 2/50\n",
      "12/12 [==============================] - ETA: 0s - loss: 0.9473 - accuracy: 0.5266\n",
      "Epoch 00002: val_loss improved from 1.02711 to 0.82984, saving model to ./model\\tea.h5\n",
      "12/12 [==============================] - 7s 551ms/step - loss: 0.9473 - accuracy: 0.5266 - val_loss: 0.8298 - val_accuracy: 0.6875\n",
      "Epoch 3/50\n",
      "12/12 [==============================] - ETA: 0s - loss: 0.7917 - accuracy: 0.7074\n",
      "Epoch 00003: val_loss improved from 0.82984 to 0.66828, saving model to ./model\\tea.h5\n",
      "12/12 [==============================] - 7s 543ms/step - loss: 0.7917 - accuracy: 0.7074 - val_loss: 0.6683 - val_accuracy: 0.7708\n",
      "Epoch 4/50\n",
      "12/12 [==============================] - ETA: 0s - loss: 0.6808 - accuracy: 0.7713\n",
      "Epoch 00004: val_loss improved from 0.66828 to 0.52679, saving model to ./model\\tea.h5\n",
      "12/12 [==============================] - 7s 563ms/step - loss: 0.6808 - accuracy: 0.7713 - val_loss: 0.5268 - val_accuracy: 0.8333\n",
      "Epoch 5/50\n",
      "12/12 [==============================] - ETA: 0s - loss: 0.5822 - accuracy: 0.8032\n",
      "Epoch 00005: val_loss improved from 0.52679 to 0.38835, saving model to ./model\\tea.h5\n",
      "12/12 [==============================] - 7s 564ms/step - loss: 0.5822 - accuracy: 0.8032 - val_loss: 0.3884 - val_accuracy: 0.9375\n",
      "Epoch 6/50\n",
      "12/12 [==============================] - ETA: 0s - loss: 0.4564 - accuracy: 0.8670\n",
      "Epoch 00006: val_loss improved from 0.38835 to 0.31553, saving model to ./model\\tea.h5\n",
      "12/12 [==============================] - 7s 562ms/step - loss: 0.4564 - accuracy: 0.8670 - val_loss: 0.3155 - val_accuracy: 0.9375\n",
      "Epoch 7/50\n",
      "12/12 [==============================] - ETA: 0s - loss: 0.4011 - accuracy: 0.8777\n",
      "Epoch 00007: val_loss improved from 0.31553 to 0.18464, saving model to ./model\\tea.h5\n",
      "12/12 [==============================] - 7s 586ms/step - loss: 0.4011 - accuracy: 0.8777 - val_loss: 0.1846 - val_accuracy: 0.9792\n",
      "Epoch 8/50\n",
      "12/12 [==============================] - ETA: 0s - loss: 0.3818 - accuracy: 0.8670\n",
      "Epoch 00008: val_loss did not improve from 0.18464\n",
      "12/12 [==============================] - 7s 588ms/step - loss: 0.3818 - accuracy: 0.8670 - val_loss: 0.2202 - val_accuracy: 0.9167\n",
      "Epoch 9/50\n",
      "12/12 [==============================] - ETA: 0s - loss: 0.2146 - accuracy: 0.9415\n",
      "Epoch 00009: val_loss improved from 0.18464 to 0.12939, saving model to ./model\\tea.h5\n",
      "12/12 [==============================] - 8s 632ms/step - loss: 0.2146 - accuracy: 0.9415 - val_loss: 0.1294 - val_accuracy: 0.9583\n",
      "Epoch 10/50\n",
      "12/12 [==============================] - ETA: 0s - loss: 0.2652 - accuracy: 0.9202\n",
      "Epoch 00010: val_loss improved from 0.12939 to 0.11035, saving model to ./model\\tea.h5\n",
      "12/12 [==============================] - 7s 589ms/step - loss: 0.2652 - accuracy: 0.9202 - val_loss: 0.1104 - val_accuracy: 0.9792\n",
      "Epoch 11/50\n",
      "12/12 [==============================] - ETA: 0s - loss: 0.2206 - accuracy: 0.9202\n",
      "Epoch 00011: val_loss improved from 0.11035 to 0.07690, saving model to ./model\\tea.h5\n",
      "12/12 [==============================] - 8s 636ms/step - loss: 0.2206 - accuracy: 0.9202 - val_loss: 0.0769 - val_accuracy: 1.0000\n",
      "Epoch 12/50\n",
      "12/12 [==============================] - ETA: 0s - loss: 0.1638 - accuracy: 0.9574\n",
      "Epoch 00012: val_loss did not improve from 0.07690\n",
      "12/12 [==============================] - 7s 609ms/step - loss: 0.1638 - accuracy: 0.9574 - val_loss: 0.1194 - val_accuracy: 0.9792\n",
      "Epoch 13/50\n",
      "12/12 [==============================] - ETA: 0s - loss: 0.1406 - accuracy: 0.9628\n",
      "Epoch 00013: val_loss did not improve from 0.07690\n",
      "12/12 [==============================] - 7s 613ms/step - loss: 0.1406 - accuracy: 0.9628 - val_loss: 0.1259 - val_accuracy: 0.9583\n",
      "Epoch 14/50\n",
      "12/12 [==============================] - ETA: 0s - loss: 0.1507 - accuracy: 0.9574\n",
      "Epoch 00014: val_loss improved from 0.07690 to 0.06626, saving model to ./model\\tea.h5\n",
      "12/12 [==============================] - 7s 624ms/step - loss: 0.1507 - accuracy: 0.9574 - val_loss: 0.0663 - val_accuracy: 0.9792\n",
      "Epoch 15/50\n",
      "12/12 [==============================] - ETA: 0s - loss: 0.1096 - accuracy: 0.9583\n",
      "Epoch 00015: val_loss improved from 0.06626 to 0.05760, saving model to ./model\\tea.h5\n",
      "12/12 [==============================] - 7s 580ms/step - loss: 0.1096 - accuracy: 0.9583 - val_loss: 0.0576 - val_accuracy: 0.9792\n",
      "Epoch 16/50\n",
      "12/12 [==============================] - ETA: 0s - loss: 0.1239 - accuracy: 0.9521\n",
      "Epoch 00016: val_loss improved from 0.05760 to 0.02886, saving model to ./model\\tea.h5\n",
      "12/12 [==============================] - 8s 662ms/step - loss: 0.1239 - accuracy: 0.9521 - val_loss: 0.0289 - val_accuracy: 1.0000\n",
      "Epoch 17/50\n",
      "12/12 [==============================] - ETA: 0s - loss: 0.1362 - accuracy: 0.9415\n",
      "Epoch 00017: val_loss did not improve from 0.02886\n",
      "12/12 [==============================] - 8s 628ms/step - loss: 0.1362 - accuracy: 0.9415 - val_loss: 0.0598 - val_accuracy: 0.9792\n",
      "Epoch 18/50\n",
      "12/12 [==============================] - ETA: 0s - loss: 0.1807 - accuracy: 0.9149\n",
      "Epoch 00018: val_loss did not improve from 0.02886\n",
      "12/12 [==============================] - 8s 663ms/step - loss: 0.1807 - accuracy: 0.9149 - val_loss: 0.0595 - val_accuracy: 0.9792\n",
      "Epoch 19/50\n",
      "12/12 [==============================] - ETA: 0s - loss: 0.0890 - accuracy: 0.9734\n",
      "Epoch 00019: val_loss did not improve from 0.02886\n",
      "12/12 [==============================] - 8s 659ms/step - loss: 0.0890 - accuracy: 0.9734 - val_loss: 0.0376 - val_accuracy: 1.0000\n",
      "Epoch 20/50\n",
      "12/12 [==============================] - ETA: 0s - loss: 0.1506 - accuracy: 0.9521\n",
      "Epoch 00020: val_loss did not improve from 0.02886\n",
      "12/12 [==============================] - 7s 620ms/step - loss: 0.1506 - accuracy: 0.9521 - val_loss: 0.0852 - val_accuracy: 0.9583\n",
      "Epoch 21/50\n",
      "12/12 [==============================] - ETA: 0s - loss: 0.0901 - accuracy: 0.9574\n",
      "Epoch 00021: val_loss improved from 0.02886 to 0.02213, saving model to ./model\\tea.h5\n",
      "12/12 [==============================] - 8s 648ms/step - loss: 0.0901 - accuracy: 0.9574 - val_loss: 0.0221 - val_accuracy: 1.0000\n",
      "Epoch 22/50\n",
      "12/12 [==============================] - ETA: 0s - loss: 0.0914 - accuracy: 0.9628\n",
      "Epoch 00022: val_loss did not improve from 0.02213\n",
      "12/12 [==============================] - 8s 629ms/step - loss: 0.0914 - accuracy: 0.9628 - val_loss: 0.0441 - val_accuracy: 0.9792\n",
      "Epoch 23/50\n",
      "12/12 [==============================] - ETA: 0s - loss: 0.1324 - accuracy: 0.9362\n",
      "Epoch 00023: val_loss did not improve from 0.02213\n",
      "12/12 [==============================] - 8s 643ms/step - loss: 0.1324 - accuracy: 0.9362 - val_loss: 0.0251 - val_accuracy: 1.0000\n",
      "Epoch 24/50\n",
      "12/12 [==============================] - ETA: 0s - loss: 0.0698 - accuracy: 0.9787\n",
      "Epoch 00024: val_loss did not improve from 0.02213\n",
      "12/12 [==============================] - 8s 679ms/step - loss: 0.0698 - accuracy: 0.9787 - val_loss: 0.0941 - val_accuracy: 0.9792\n",
      "Epoch 25/50\n",
      "12/12 [==============================] - ETA: 0s - loss: 0.0397 - accuracy: 0.9894\n",
      "Epoch 00025: val_loss did not improve from 0.02213\n",
      "12/12 [==============================] - 8s 651ms/step - loss: 0.0397 - accuracy: 0.9894 - val_loss: 0.0946 - val_accuracy: 0.9792\n",
      "Epoch 26/50\n",
      "12/12 [==============================] - ETA: 0s - loss: 0.1498 - accuracy: 0.9468Restoring model weights from the end of the best epoch.\n",
      "\n",
      "Epoch 00026: val_loss did not improve from 0.02213\n",
      "12/12 [==============================] - 8s 661ms/step - loss: 0.1498 - accuracy: 0.9468 - val_loss: 0.0724 - val_accuracy: 0.9792\n",
      "Epoch 00026: early stopping\n"
     ]
    }
   ],
   "source": [
    "nb_train_samples = 204\n",
    "nb_validation_samples = 51\n",
    "\n",
    "epochs = 50\n",
    "batch_size = 16\n",
    "\n",
    "history = model.fit_generator(\n",
    "    train_generator,\n",
    "    steps_per_epoch = nb_train_samples // batch_size,\n",
    "    epochs = epochs,\n",
    "    callbacks = callbacks,\n",
    "    validation_data = validation_generator,\n",
    "    validation_steps = nb_validation_samples // batch_size,\n",
    "    shuffle = True\n",
    ")"
   ]
  },
  {
   "cell_type": "code",
   "execution_count": 1,
   "id": "assumed-rebate",
   "metadata": {},
   "outputs": [
    {
     "ename": "NameError",
     "evalue": "name 'test_batches' is not defined",
     "output_type": "error",
     "traceback": [
      "\u001b[1;31m---------------------------------------------------------------------------\u001b[0m",
      "\u001b[1;31mNameError\u001b[0m                                 Traceback (most recent call last)",
      "\u001b[1;32m<ipython-input-1-235129c4573f>\u001b[0m in \u001b[0;36m<module>\u001b[1;34m\u001b[0m\n\u001b[1;32m----> 1\u001b[1;33m \u001b[0mtest_labels\u001b[0m \u001b[1;33m=\u001b[0m \u001b[0mtest_batches\u001b[0m\u001b[1;33m.\u001b[0m\u001b[0mclasses\u001b[0m\u001b[1;33m\u001b[0m\u001b[1;33m\u001b[0m\u001b[0m\n\u001b[0m",
      "\u001b[1;31mNameError\u001b[0m: name 'test_batches' is not defined"
     ]
    }
   ],
   "source": [
    "test_labels = test_batches.classes"
   ]
  },
  {
   "cell_type": "code",
   "execution_count": 9,
   "id": "beginning-southwest",
   "metadata": {},
   "outputs": [
    {
     "data": {
      "text/plain": [
       "array([0, 0, 0, 0, 0, 1, 1, 1, 1, 1, 2, 2, 2, 2, 2])"
      ]
     },
     "execution_count": 9,
     "metadata": {},
     "output_type": "execute_result"
    }
   ],
   "source": [
    "test_labels"
   ]
  },
  {
   "cell_type": "code",
   "execution_count": 10,
   "id": "accomplished-sussex",
   "metadata": {},
   "outputs": [
    {
     "data": {
      "text/plain": [
       "{'blight': 0, 'red_scab': 1, 'red_spot': 2}"
      ]
     },
     "execution_count": 10,
     "metadata": {},
     "output_type": "execute_result"
    }
   ],
   "source": [
    "test_batches.class_indices"
   ]
  },
  {
   "cell_type": "code",
   "execution_count": 11,
   "id": "saving-dealing",
   "metadata": {},
   "outputs": [],
   "source": [
    "import itertools"
   ]
  },
  {
   "cell_type": "code",
   "execution_count": 12,
   "id": "scenic-modem",
   "metadata": {},
   "outputs": [],
   "source": [
    "def plot_confusion_matrix(cm, classes,\n",
    "                          normalize=False,\n",
    "                          title='Confusion matrix',\n",
    "                          cmap=plt.cm.Blues):\n",
    "    \"\"\"\n",
    "    This function prints and plots the confusion matrix.\n",
    "    Normalization can be applied by setting `normalize=True`.\n",
    "    \"\"\"\n",
    "    plt.imshow(cm, interpolation='nearest', cmap=cmap)\n",
    "    plt.title(title)\n",
    "    plt.colorbar()\n",
    "    tick_marks = np.arange(len(classes))\n",
    "    plt.xticks(tick_marks, classes, rotation=45)\n",
    "    plt.yticks(tick_marks, classes)\n",
    "\n",
    "    if normalize:\n",
    "        cm = cm.astype('float') / cm.sum(axis=1)[:, np.newaxis]\n",
    "        print(\"Normalized confusion matrix\")\n",
    "    else:\n",
    "        print('Confusion matrix, without normalization')\n",
    "\n",
    "    print(cm)\n",
    "\n",
    "    thresh = cm.max() / 2.\n",
    "    for i, j in itertools.product(range(cm.shape[0]), range(cm.shape[1])):\n",
    "        plt.text(j,i, cm[i, j],\n",
    "                 horizontalalignment=\"center\",\n",
    "                 color=\"white\" if cm[i, j] > thresh else \"black\")\n",
    "    \n",
    "    plt.tight_layout()\n",
    "    plt.ylabel('True label')\n",
    "    plt.xlabel('Predicted label')"
   ]
  },
  {
   "cell_type": "code",
   "execution_count": 13,
   "id": "serial-identifier",
   "metadata": {},
   "outputs": [
    {
     "name": "stdout",
     "output_type": "stream",
     "text": [
      "WARNING:tensorflow:From <ipython-input-13-acd78ecacfa7>:5: Model.predict_generator (from tensorflow.python.keras.engine.training) is deprecated and will be removed in a future version.\n",
      "Instructions for updating:\n",
      "Please use Model.predict, which supports generators.\n",
      "1/1 [==============================] - 0s 3ms/step\n"
     ]
    }
   ],
   "source": [
    "from keras.models import load_model\n",
    "\n",
    "classifier = load_model('./model/tea.h5')\n",
    "\n",
    "predictions = classifier.predict_generator(test_batches, steps=1, verbose=1)\n"
   ]
  },
  {
   "cell_type": "code",
   "execution_count": 14,
   "id": "mediterranean-times",
   "metadata": {},
   "outputs": [],
   "source": [
    "\n",
    "cm = confusion_matrix(test_labels, predictions.argmax(axis=1))"
   ]
  },
  {
   "cell_type": "code",
   "execution_count": 15,
   "id": "stone-client",
   "metadata": {},
   "outputs": [
    {
     "name": "stdout",
     "output_type": "stream",
     "text": [
      "Confusion matrix, without normalization\n",
      "[[5 0 0]\n",
      " [0 5 0]\n",
      " [0 0 5]]\n"
     ]
    },
    {
     "data": {
      "image/png": "[encoded data removed]",
      "text/plain": [
       "<Figure size 432x288 with 2 Axes>"
      ]
     },
     "metadata": {
      "needs_background": "light"
     },
     "output_type": "display_data"
    }
   ],
   "source": [
    "cm_plot_labels = ['blight', 'scab', 'spot']\n",
    "plot_confusion_matrix(cm, cm_plot_labels, title='Confusion Matrix')"
   ]
  },
  {
   "cell_type": "code",
   "execution_count": 16,
   "id": "undefined-eugene",
   "metadata": {},
   "outputs": [
    {
     "data": {
      "image/png": "[encoded data removed]",
      "text/plain": [
       "<Figure size 432x288 with 1 Axes>"
      ]
     },
     "metadata": {
      "needs_background": "light"
     },
     "output_type": "display_data"
    },
    {
     "data": {
      "image/png": "[encoded data removed]",
      "text/plain": [
       "<Figure size 432x288 with 1 Axes>"
      ]
     },
     "metadata": {
      "needs_background": "light"
     },
     "output_type": "display_data"
    }
   ],
   "source": [
    "import matplotlib.pyplot as plt\n",
    "\n",
    "plt.plot(history.history['loss'])\n",
    "plt.plot(history.history['val_loss'])\n",
    "plt.title('model loss')\n",
    "plt.ylabel('loss')\n",
    "plt.xlabel('epoch')\n",
    "plt.legend(['train', 'validation'], loc='upper right')\n",
    "plt.show()\n",
    "\n",
    "plt.plot(history.history['accuracy'])\n",
    "plt.plot(history.history['val_accuracy'])\n",
    "plt.title('model accuracy')\n",
    "plt.ylabel('accuracy')\n",
    "plt.xlabel('epoch')\n",
    "plt.legend(['train', 'validation'], loc='upper right')\n",
    "plt.show()"
   ]
  },
  {
   "cell_type": "code",
   "execution_count": 17,
   "id": "collect-screw",
   "metadata": {},
   "outputs": [
    {
     "name": "stdout",
     "output_type": "stream",
     "text": [
      "Model: \"sequential\"\n",
      "_________________________________________________________________\n",
      "Layer (type)                 Output Shape              Param #   \n",
      "=================================================================\n",
      "keras_layer (KerasLayer)     (None, 1280)              2257984   \n",
      "_________________________________________________________________\n",
      "dropout_2 (Dropout)          (None, 1280)              0         \n",
      "_________________________________________________________________\n",
      "dense_3 (Dense)              (None, 3)                 3843      \n",
      "=================================================================\n",
      "Total params: 2,261,827\n",
      "Trainable params: 3,843\n",
      "Non-trainable params: 2,257,984\n",
      "_________________________________________________________________\n"
     ]
    }
   ],
   "source": [
    "import tensorflow as tf\n",
    "import tensorflow_hub as hub\n",
    "\n",
    "url = \"https://tfhub.dev/google/tf2-preview/mobilenet_v2/feature_vector/4\"\n",
    "model_2 =Sequential([hub.KerasLayer(url,\n",
    "                                    output_shape=[1280],\n",
    "                                    trainable=False\n",
    "                                   ),\n",
    "                     Dropout(0.4),\n",
    "                     Dense(num_classes, activation='softmax')\n",
    "])\n",
    "\n",
    "input_shape=[None, 224, 224, 3]\n",
    "\n",
    "model_2.build(input_shape)\n",
    "learning_rate = 0.0001\n",
    "\n",
    "model_2.summary()\n",
    "\n",
    "model_2.compile(\n",
    "\n",
    "    optimizer=SGD(lr = 0.001, momentum = 0.8 , nesterov = True),\n",
    "\n",
    "    loss='categorical_crossentropy',\n",
    "\n",
    "    metrics=['acc'])"
   ]
  },
  {
   "cell_type": "code",
   "execution_count": 18,
   "id": "authorized-african",
   "metadata": {},
   "outputs": [],
   "source": [
    "checkpoint = ModelCheckpoint(\"./model/tea_sequential.h5\",\n",
    "                            monitor = 'val_loss',\n",
    "                            mode = 'min',\n",
    "                            save_best_only = True,\n",
    "                            verbose = 1\n",
    "                            )\n",
    "\n",
    "earlystop = EarlyStopping(monitor = \"val_loss\",\n",
    "                         min_delta = 0,\n",
    "                         patience = 5,\n",
    "                         verbose = 1,\n",
    "                         restore_best_weights = True\n",
    "                         )\n",
    "\n",
    "callbacks = [earlystop, checkpoint]"
   ]
  },
  {
   "cell_type": "code",
   "execution_count": 19,
   "id": "formal-arabic",
   "metadata": {},
   "outputs": [
    {
     "name": "stdout",
     "output_type": "stream",
     "text": [
      "Epoch 1/50\n",
      "12/12 [==============================] - ETA: 0s - loss: 1.3408 - acc: 0.4043\n",
      "Epoch 00001: val_loss improved from inf to 0.64271, saving model to ./model\\tea_sequential.h5\n",
      "12/12 [==============================] - 11s 919ms/step - loss: 1.3408 - acc: 0.4043 - val_loss: 0.6427 - val_acc: 0.7292\n",
      "Epoch 2/50\n",
      "12/12 [==============================] - ETA: 0s - loss: 0.7054 - acc: 0.6968\n",
      "Epoch 00002: val_loss improved from 0.64271 to 0.31873, saving model to ./model\\tea_sequential.h5\n",
      "12/12 [==============================] - 10s 851ms/step - loss: 0.7054 - acc: 0.6968 - val_loss: 0.3187 - val_acc: 0.9167\n",
      "Epoch 3/50\n",
      "12/12 [==============================] - ETA: 0s - loss: 0.4250 - acc: 0.8298\n",
      "Epoch 00003: val_loss improved from 0.31873 to 0.22397, saving model to ./model\\tea_sequential.h5\n",
      "12/12 [==============================] - 11s 907ms/step - loss: 0.4250 - acc: 0.8298 - val_loss: 0.2240 - val_acc: 0.9375\n",
      "Epoch 4/50\n",
      "12/12 [==============================] - ETA: 0s - loss: 0.3222 - acc: 0.8830\n",
      "Epoch 00004: val_loss improved from 0.22397 to 0.10681, saving model to ./model\\tea_sequential.h5\n",
      "12/12 [==============================] - 11s 956ms/step - loss: 0.3222 - acc: 0.8830 - val_loss: 0.1068 - val_acc: 1.0000\n",
      "Epoch 5/50\n",
      "12/12 [==============================] - ETA: 0s - loss: 0.2463 - acc: 0.9202\n",
      "Epoch 00005: val_loss did not improve from 0.10681\n",
      "12/12 [==============================] - 10s 863ms/step - loss: 0.2463 - acc: 0.9202 - val_loss: 0.1321 - val_acc: 0.9583\n",
      "Epoch 6/50\n",
      "12/12 [==============================] - ETA: 0s - loss: 0.2294 - acc: 0.9415\n",
      "Epoch 00006: val_loss did not improve from 0.10681\n",
      "12/12 [==============================] - 11s 906ms/step - loss: 0.2294 - acc: 0.9415 - val_loss: 0.1247 - val_acc: 0.9792\n",
      "Epoch 7/50\n",
      "12/12 [==============================] - ETA: 0s - loss: 0.1959 - acc: 0.9415\n",
      "Epoch 00007: val_loss improved from 0.10681 to 0.09291, saving model to ./model\\tea_sequential.h5\n",
      "12/12 [==============================] - 11s 896ms/step - loss: 0.1959 - acc: 0.9415 - val_loss: 0.0929 - val_acc: 1.0000\n",
      "Epoch 8/50\n",
      "12/12 [==============================] - ETA: 0s - loss: 0.1595 - acc: 0.9415\n",
      "Epoch 00008: val_loss improved from 0.09291 to 0.06234, saving model to ./model\\tea_sequential.h5\n",
      "12/12 [==============================] - 10s 857ms/step - loss: 0.1595 - acc: 0.9415 - val_loss: 0.0623 - val_acc: 1.0000\n",
      "Epoch 9/50\n",
      "12/12 [==============================] - ETA: 0s - loss: 0.1813 - acc: 0.9362\n",
      "Epoch 00009: val_loss did not improve from 0.06234\n",
      "12/12 [==============================] - 10s 809ms/step - loss: 0.1813 - acc: 0.9362 - val_loss: 0.0831 - val_acc: 1.0000\n",
      "Epoch 10/50\n",
      "12/12 [==============================] - ETA: 0s - loss: 0.1664 - acc: 0.9415\n",
      "Epoch 00010: val_loss did not improve from 0.06234\n",
      "12/12 [==============================] - 10s 821ms/step - loss: 0.1664 - acc: 0.9415 - val_loss: 0.0781 - val_acc: 1.0000\n",
      "Epoch 11/50\n",
      "12/12 [==============================] - ETA: 0s - loss: 0.1074 - acc: 0.9787\n",
      "Epoch 00011: val_loss did not improve from 0.06234\n",
      "12/12 [==============================] - 10s 826ms/step - loss: 0.1074 - acc: 0.9787 - val_loss: 0.0640 - val_acc: 1.0000\n",
      "Epoch 12/50\n",
      "12/12 [==============================] - ETA: 0s - loss: 0.1115 - acc: 0.9840\n",
      "Epoch 00012: val_loss did not improve from 0.06234\n",
      "12/12 [==============================] - 10s 834ms/step - loss: 0.1115 - acc: 0.9840 - val_loss: 0.0702 - val_acc: 1.0000\n",
      "Epoch 13/50\n",
      "12/12 [==============================] - ETA: 0s - loss: 0.1014 - acc: 0.9894Restoring model weights from the end of the best epoch.\n",
      "\n",
      "Epoch 00013: val_loss did not improve from 0.06234\n",
      "12/12 [==============================] - 10s 817ms/step - loss: 0.1014 - acc: 0.9894 - val_loss: 0.0653 - val_acc: 0.9792\n",
      "Epoch 00013: early stopping\n"
     ]
    }
   ],
   "source": [
    "\n",
    "hist = model_2.fit(\n",
    "    train_generator,\n",
    "    epochs=50,\n",
    "    verbose=1,\n",
    "    callbacks = callbacks,\n",
    "    steps_per_epoch=nb_train_samples // batch_size,\n",
    "    validation_data=validation_generator,\n",
    "    validation_steps=nb_validation_samples // batch_size)\n",
    "\n",
    "hist = hist.history"
   ]
  },
  {
   "cell_type": "code",
   "execution_count": 20,
   "id": "danish-government",
   "metadata": {},
   "outputs": [
    {
     "data": {
      "text/plain": [
       "<matplotlib.legend.Legend at 0x28a80058f98>"
      ]
     },
     "execution_count": 20,
     "metadata": {},
     "output_type": "execute_result"
    },
    {
     "data": {
      "image/png": "[encoded data removed]",
      "text/plain": [
       "<Figure size 432x288 with 1 Axes>"
      ]
     },
     "metadata": {
      "needs_background": "light"
     },
     "output_type": "display_data"
    },
    {
     "data": {
      "image/png": "[encoded data removed]",
      "text/plain": [
       "<Figure size 432x288 with 1 Axes>"
      ]
     },
     "metadata": {
      "needs_background": "light"
     },
     "output_type": "display_data"
    }
   ],
   "source": [
    "plt.figure()\n",
    "plt.ylabel(\"Loss (training and validation)\")\n",
    "plt.xlabel(\"Training Steps\")\n",
    "plt.ylim([-0.5,2])\n",
    "plt.plot(hist[\"loss\"],label='Training Loss')\n",
    "plt.plot(hist[\"val_loss\"], label='Validation Loss')\n",
    "plt.legend(loc='upper right')\n",
    "\n",
    "\n",
    "plt.figure()\n",
    "plt.ylabel(\"Accuracy (training and validation)\")\n",
    "plt.xlabel(\"Training Steps\")\n",
    "plt.ylim([0.3,1.1])\n",
    "plt.plot(hist[\"acc\"],label='Training Accuracy')\n",
    "plt.plot(hist[\"val_acc\"], label='Validation Accuracy')\n",
    "plt.legend(loc='lower right')"
   ]
  },
  {
   "cell_type": "code",
   "execution_count": null,
   "id": "designing-reach",
   "metadata": {},
   "outputs": [],
   "source": []
  },
  {
   "cell_type": "code",
   "execution_count": null,
   "id": "miniature-equation",
   "metadata": {},
   "outputs": [],
   "source": []
  }
 ],
 "metadata": {
  "kernelspec": {
   "display_name": "Python 3",
   "language": "python",
   "name": "python3"
  },
  "language_info": {
   "codemirror_mode": {
    "name": "ipython",
    "version": 3
   },
   "file_extension": ".py",
   "mimetype": "text/x-python",
   "name": "python",
   "nbconvert_exporter": "python",
   "pygments_lexer": "ipython3",
   "version": "3.7.3"
  }
 },
 "nbformat": 4,
 "nbformat_minor": 5
}
