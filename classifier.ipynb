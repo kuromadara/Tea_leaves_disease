{
 "cells": [
  {
   "cell_type": "code",
   "execution_count": 1,
   "id": "explicit-antarctica",
   "metadata": {},
   "outputs": [],
   "source": [
    "from keras.applications import MobileNet\n",
    "import matplotlib.pyplot as plt\n",
    "from sklearn.metrics import confusion_matrix\n",
    "import numpy as np\n",
    "\n",
    "img_rows, img_cols = 224, 224\n",
    "\n",
    "MobileNet = MobileNet(weights = 'imagenet',\n",
    "                     include_top = False,\n",
    "                     input_shape = (img_rows, img_cols, 3),\n",
    "                     alpha=0.25\n",
    "                     )\n",
    "\n",
    "for layer in MobileNet.layers:\n",
    "    layer.trainable = False"
   ]
  },
  {
   "cell_type": "code",
   "execution_count": 2,
   "id": "contrary-organization",
   "metadata": {},
   "outputs": [],
   "source": [
    "def addTopModelMobileNet(bottom_model, num_classes):\n",
    "    \n",
    "    top_model = bottom_model.output\n",
    "    top_model = BatchNormalization()(top_model)\n",
    "    top_model = GlobalAveragePooling2D()(top_model)\n",
    "    top_model = Dropout(0.5)(top_model)\n",
    "    top_model = Dense(64,activation = 'relu')(top_model)\n",
    "    top_model = Dropout(0.25)(top_model)\n",
    "    top_model = Dense(32, activation = 'relu')(top_model)\n",
    "    top_model = Dense(num_classes, activation = 'softmax')(top_model)\n",
    "    \n",
    "    return top_model\n",
    "    "
   ]
  },
  {
   "cell_type": "code",
   "execution_count": 3,
   "id": "damaged-numbers",
   "metadata": {},
   "outputs": [
    {
     "name": "stdout",
     "output_type": "stream",
     "text": [
      "Model: \"functional_1\"\n",
      "_________________________________________________________________\n",
      "Layer (type)                 Output Shape              Param #   \n",
      "=================================================================\n",
      "input_1 (InputLayer)         [(None, 224, 224, 3)]     0         \n",
      "_________________________________________________________________\n",
      "conv1_pad (ZeroPadding2D)    (None, 225, 225, 3)       0         \n",
      "_________________________________________________________________\n",
      "conv1 (Conv2D)               (None, 112, 112, 8)       216       \n",
      "_________________________________________________________________\n",
      "conv1_bn (BatchNormalization (None, 112, 112, 8)       32        \n",
      "_________________________________________________________________\n",
      "conv1_relu (ReLU)            (None, 112, 112, 8)       0         \n",
      "_________________________________________________________________\n",
      "conv_dw_1 (DepthwiseConv2D)  (None, 112, 112, 8)       72        \n",
      "_________________________________________________________________\n",
      "conv_dw_1_bn (BatchNormaliza (None, 112, 112, 8)       32        \n",
      "_________________________________________________________________\n",
      "conv_dw_1_relu (ReLU)        (None, 112, 112, 8)       0         \n",
      "_________________________________________________________________\n",
      "conv_pw_1 (Conv2D)           (None, 112, 112, 16)      128       \n",
      "_________________________________________________________________\n",
      "conv_pw_1_bn (BatchNormaliza (None, 112, 112, 16)      64        \n",
      "_________________________________________________________________\n",
      "conv_pw_1_relu (ReLU)        (None, 112, 112, 16)      0         \n",
      "_________________________________________________________________\n",
      "conv_pad_2 (ZeroPadding2D)   (None, 113, 113, 16)      0         \n",
      "_________________________________________________________________\n",
      "conv_dw_2 (DepthwiseConv2D)  (None, 56, 56, 16)        144       \n",
      "_________________________________________________________________\n",
      "conv_dw_2_bn (BatchNormaliza (None, 56, 56, 16)        64        \n",
      "_________________________________________________________________\n",
      "conv_dw_2_relu (ReLU)        (None, 56, 56, 16)        0         \n",
      "_________________________________________________________________\n",
      "conv_pw_2 (Conv2D)           (None, 56, 56, 32)        512       \n",
      "_________________________________________________________________\n",
      "conv_pw_2_bn (BatchNormaliza (None, 56, 56, 32)        128       \n",
      "_________________________________________________________________\n",
      "conv_pw_2_relu (ReLU)        (None, 56, 56, 32)        0         \n",
      "_________________________________________________________________\n",
      "conv_dw_3 (DepthwiseConv2D)  (None, 56, 56, 32)        288       \n",
      "_________________________________________________________________\n",
      "conv_dw_3_bn (BatchNormaliza (None, 56, 56, 32)        128       \n",
      "_________________________________________________________________\n",
      "conv_dw_3_relu (ReLU)        (None, 56, 56, 32)        0         \n",
      "_________________________________________________________________\n",
      "conv_pw_3 (Conv2D)           (None, 56, 56, 32)        1024      \n",
      "_________________________________________________________________\n",
      "conv_pw_3_bn (BatchNormaliza (None, 56, 56, 32)        128       \n",
      "_________________________________________________________________\n",
      "conv_pw_3_relu (ReLU)        (None, 56, 56, 32)        0         \n",
      "_________________________________________________________________\n",
      "conv_pad_4 (ZeroPadding2D)   (None, 57, 57, 32)        0         \n",
      "_________________________________________________________________\n",
      "conv_dw_4 (DepthwiseConv2D)  (None, 28, 28, 32)        288       \n",
      "_________________________________________________________________\n",
      "conv_dw_4_bn (BatchNormaliza (None, 28, 28, 32)        128       \n",
      "_________________________________________________________________\n",
      "conv_dw_4_relu (ReLU)        (None, 28, 28, 32)        0         \n",
      "_________________________________________________________________\n",
      "conv_pw_4 (Conv2D)           (None, 28, 28, 64)        2048      \n",
      "_________________________________________________________________\n",
      "conv_pw_4_bn (BatchNormaliza (None, 28, 28, 64)        256       \n",
      "_________________________________________________________________\n",
      "conv_pw_4_relu (ReLU)        (None, 28, 28, 64)        0         \n",
      "_________________________________________________________________\n",
      "conv_dw_5 (DepthwiseConv2D)  (None, 28, 28, 64)        576       \n",
      "_________________________________________________________________\n",
      "conv_dw_5_bn (BatchNormaliza (None, 28, 28, 64)        256       \n",
      "_________________________________________________________________\n",
      "conv_dw_5_relu (ReLU)        (None, 28, 28, 64)        0         \n",
      "_________________________________________________________________\n",
      "conv_pw_5 (Conv2D)           (None, 28, 28, 64)        4096      \n",
      "_________________________________________________________________\n",
      "conv_pw_5_bn (BatchNormaliza (None, 28, 28, 64)        256       \n",
      "_________________________________________________________________\n",
      "conv_pw_5_relu (ReLU)        (None, 28, 28, 64)        0         \n",
      "_________________________________________________________________\n",
      "conv_pad_6 (ZeroPadding2D)   (None, 29, 29, 64)        0         \n",
      "_________________________________________________________________\n",
      "conv_dw_6 (DepthwiseConv2D)  (None, 14, 14, 64)        576       \n",
      "_________________________________________________________________\n",
      "conv_dw_6_bn (BatchNormaliza (None, 14, 14, 64)        256       \n",
      "_________________________________________________________________\n",
      "conv_dw_6_relu (ReLU)        (None, 14, 14, 64)        0         \n",
      "_________________________________________________________________\n",
      "conv_pw_6 (Conv2D)           (None, 14, 14, 128)       8192      \n",
      "_________________________________________________________________\n",
      "conv_pw_6_bn (BatchNormaliza (None, 14, 14, 128)       512       \n",
      "_________________________________________________________________\n",
      "conv_pw_6_relu (ReLU)        (None, 14, 14, 128)       0         \n",
      "_________________________________________________________________\n",
      "conv_dw_7 (DepthwiseConv2D)  (None, 14, 14, 128)       1152      \n",
      "_________________________________________________________________\n",
      "conv_dw_7_bn (BatchNormaliza (None, 14, 14, 128)       512       \n",
      "_________________________________________________________________\n",
      "conv_dw_7_relu (ReLU)        (None, 14, 14, 128)       0         \n",
      "_________________________________________________________________\n",
      "conv_pw_7 (Conv2D)           (None, 14, 14, 128)       16384     \n",
      "_________________________________________________________________\n",
      "conv_pw_7_bn (BatchNormaliza (None, 14, 14, 128)       512       \n",
      "_________________________________________________________________\n",
      "conv_pw_7_relu (ReLU)        (None, 14, 14, 128)       0         \n",
      "_________________________________________________________________\n",
      "conv_dw_8 (DepthwiseConv2D)  (None, 14, 14, 128)       1152      \n",
      "_________________________________________________________________\n",
      "conv_dw_8_bn (BatchNormaliza (None, 14, 14, 128)       512       \n",
      "_________________________________________________________________\n",
      "conv_dw_8_relu (ReLU)        (None, 14, 14, 128)       0         \n",
      "_________________________________________________________________\n",
      "conv_pw_8 (Conv2D)           (None, 14, 14, 128)       16384     \n",
      "_________________________________________________________________\n",
      "conv_pw_8_bn (BatchNormaliza (None, 14, 14, 128)       512       \n",
      "_________________________________________________________________\n",
      "conv_pw_8_relu (ReLU)        (None, 14, 14, 128)       0         \n",
      "_________________________________________________________________\n",
      "conv_dw_9 (DepthwiseConv2D)  (None, 14, 14, 128)       1152      \n",
      "_________________________________________________________________\n",
      "conv_dw_9_bn (BatchNormaliza (None, 14, 14, 128)       512       \n",
      "_________________________________________________________________\n",
      "conv_dw_9_relu (ReLU)        (None, 14, 14, 128)       0         \n",
      "_________________________________________________________________\n",
      "conv_pw_9 (Conv2D)           (None, 14, 14, 128)       16384     \n",
      "_________________________________________________________________\n",
      "conv_pw_9_bn (BatchNormaliza (None, 14, 14, 128)       512       \n",
      "_________________________________________________________________\n",
      "conv_pw_9_relu (ReLU)        (None, 14, 14, 128)       0         \n",
      "_________________________________________________________________\n",
      "conv_dw_10 (DepthwiseConv2D) (None, 14, 14, 128)       1152      \n",
      "_________________________________________________________________\n",
      "conv_dw_10_bn (BatchNormaliz (None, 14, 14, 128)       512       \n",
      "_________________________________________________________________\n",
      "conv_dw_10_relu (ReLU)       (None, 14, 14, 128)       0         \n",
      "_________________________________________________________________\n",
      "conv_pw_10 (Conv2D)          (None, 14, 14, 128)       16384     \n",
      "_________________________________________________________________\n",
      "conv_pw_10_bn (BatchNormaliz (None, 14, 14, 128)       512       \n",
      "_________________________________________________________________\n",
      "conv_pw_10_relu (ReLU)       (None, 14, 14, 128)       0         \n",
      "_________________________________________________________________\n",
      "conv_dw_11 (DepthwiseConv2D) (None, 14, 14, 128)       1152      \n",
      "_________________________________________________________________\n",
      "conv_dw_11_bn (BatchNormaliz (None, 14, 14, 128)       512       \n",
      "_________________________________________________________________\n",
      "conv_dw_11_relu (ReLU)       (None, 14, 14, 128)       0         \n",
      "_________________________________________________________________\n",
      "conv_pw_11 (Conv2D)          (None, 14, 14, 128)       16384     \n",
      "_________________________________________________________________\n",
      "conv_pw_11_bn (BatchNormaliz (None, 14, 14, 128)       512       \n",
      "_________________________________________________________________\n",
      "conv_pw_11_relu (ReLU)       (None, 14, 14, 128)       0         \n",
      "_________________________________________________________________\n",
      "conv_pad_12 (ZeroPadding2D)  (None, 15, 15, 128)       0         \n",
      "_________________________________________________________________\n",
      "conv_dw_12 (DepthwiseConv2D) (None, 7, 7, 128)         1152      \n",
      "_________________________________________________________________\n",
      "conv_dw_12_bn (BatchNormaliz (None, 7, 7, 128)         512       \n",
      "_________________________________________________________________\n",
      "conv_dw_12_relu (ReLU)       (None, 7, 7, 128)         0         \n",
      "_________________________________________________________________\n",
      "conv_pw_12 (Conv2D)          (None, 7, 7, 256)         32768     \n",
      "_________________________________________________________________\n",
      "conv_pw_12_bn (BatchNormaliz (None, 7, 7, 256)         1024      \n",
      "_________________________________________________________________\n",
      "conv_pw_12_relu (ReLU)       (None, 7, 7, 256)         0         \n",
      "_________________________________________________________________\n",
      "conv_dw_13 (DepthwiseConv2D) (None, 7, 7, 256)         2304      \n",
      "_________________________________________________________________\n",
      "conv_dw_13_bn (BatchNormaliz (None, 7, 7, 256)         1024      \n",
      "_________________________________________________________________\n",
      "conv_dw_13_relu (ReLU)       (None, 7, 7, 256)         0         \n",
      "_________________________________________________________________\n",
      "conv_pw_13 (Conv2D)          (None, 7, 7, 256)         65536     \n",
      "_________________________________________________________________\n",
      "conv_pw_13_bn (BatchNormaliz (None, 7, 7, 256)         1024      \n",
      "_________________________________________________________________\n",
      "conv_pw_13_relu (ReLU)       (None, 7, 7, 256)         0         \n",
      "_________________________________________________________________\n",
      "batch_normalization (BatchNo (None, 7, 7, 256)         1024      \n",
      "_________________________________________________________________\n",
      "global_average_pooling2d (Gl (None, 256)               0         \n",
      "_________________________________________________________________\n",
      "dropout (Dropout)            (None, 256)               0         \n",
      "_________________________________________________________________\n",
      "dense (Dense)                (None, 64)                16448     \n",
      "_________________________________________________________________\n",
      "dropout_1 (Dropout)          (None, 64)                0         \n",
      "_________________________________________________________________\n",
      "dense_1 (Dense)              (None, 32)                2080      \n",
      "_________________________________________________________________\n",
      "dense_2 (Dense)              (None, 3)                 99        \n",
      "=================================================================\n",
      "Total params: 238,195\n",
      "Trainable params: 19,139\n",
      "Non-trainable params: 219,056\n",
      "_________________________________________________________________\n",
      "None\n"
     ]
    }
   ],
   "source": [
    "from keras.models import Sequential\n",
    "from keras.layers import Dense, Dropout, Activation, Flatten, GlobalAveragePooling2D\n",
    "from keras.layers import Conv2D, MaxPooling2D, ZeroPadding2D\n",
    "from keras.layers.normalization import BatchNormalization\n",
    "from keras.models import Model\n",
    "from keras.regularizers import l1, l2\n",
    "\n",
    "num_classes = 3\n",
    "\n",
    "FC_Head = addTopModelMobileNet(MobileNet, num_classes)\n",
    "\n",
    "model = Model(inputs = MobileNet.input, outputs = FC_Head)\n",
    "\n",
    "print(model.summary())"
   ]
  },
  {
   "cell_type": "code",
   "execution_count": 4,
   "id": "assured-queen",
   "metadata": {},
   "outputs": [],
   "source": [
    "from keras.preprocessing.image import ImageDataGenerator\n",
    "\n",
    "data_dir = './data/train'\n",
    "test_dir = './data/test'"
   ]
  },
  {
   "cell_type": "code",
   "execution_count": 5,
   "id": "caroline-maximum",
   "metadata": {},
   "outputs": [
    {
     "name": "stdout",
     "output_type": "stream",
     "text": [
      "Found 204 images belonging to 3 classes.\n",
      "Found 51 images belonging to 3 classes.\n",
      "Found 15 images belonging to 3 classes.\n"
     ]
    }
   ],
   "source": [
    "datagen = ImageDataGenerator(\n",
    "    validation_split = 0.2,\n",
    "    rescale = 1./255,\n",
    "    rotation_range = 45\n",
    "    \n",
    "    #width_shift_range = 0.3,\n",
    "    #height_shift_range = 0.3,\n",
    "    #horizontal_flip = False,\n",
    "    #fill_mode = 'nearest'\n",
    ")\n",
    "\n",
    "\n",
    "batch_size = 16\n",
    "\n",
    "train_generator = datagen.flow_from_directory(\n",
    "    data_dir,\n",
    "    subset ='training',\n",
    "    target_size = (img_rows, img_cols),\n",
    "    batch_size = batch_size,\n",
    "    class_mode = 'categorical'\n",
    ")\n",
    "\n",
    "validation_generator = datagen.flow_from_directory(\n",
    "    data_dir,\n",
    "    subset = 'validation',\n",
    "    target_size = (img_rows, img_cols),\n",
    "    batch_size = batch_size,\n",
    "    class_mode = 'categorical'\n",
    ")\n",
    "\n",
    "\n",
    "test_datagen = ImageDataGenerator( rescale = 1./255 )\n",
    "\n",
    "test_batches = test_datagen.flow_from_directory(test_dir, \n",
    "                                                target_size=(img_rows,img_cols),\n",
    "                                                shuffle = False\n",
    "                                               )\n",
    "                                                                                             "
   ]
  },
  {
   "cell_type": "code",
   "execution_count": 6,
   "id": "wired-paste",
   "metadata": {},
   "outputs": [],
   "source": [
    "from keras.optimizers import RMSprop, SGD, Adam, Nadam\n",
    "from keras.callbacks import ModelCheckpoint, EarlyStopping\n",
    "from keras.metrics import categorical_crossentropy\n",
    "\n",
    "checkpoint = ModelCheckpoint(\"./model/tea.h5\",\n",
    "                            monitor = 'val_loss',\n",
    "                            mode = 'min',\n",
    "                            save_best_only = True,\n",
    "                            verbose = 1\n",
    "                            )\n",
    "\n",
    "earlystop = EarlyStopping(monitor = \"val_loss\",\n",
    "                         min_delta = 0,\n",
    "                         patience = 5,\n",
    "                         verbose = 1,\n",
    "                         restore_best_weights = True\n",
    "                         )\n",
    "\n",
    "callbacks = [earlystop, checkpoint]\n",
    "\n",
    "model.compile(loss = 'categorical_crossentropy',\n",
    "              optimizer = Nadam(lr = 0.001, beta_1 = 0.99, beta_2 = 0.999, epsilon = 1e-07),\n",
    "              metrics = ['accuracy']\n",
    "             )"
   ]
  },
  {
   "cell_type": "code",
   "execution_count": 7,
   "id": "swiss-alcohol",
   "metadata": {},
   "outputs": [
    {
     "name": "stdout",
     "output_type": "stream",
     "text": [
      "WARNING:tensorflow:From <ipython-input-7-8281f4513a05>:14: Model.fit_generator (from tensorflow.python.keras.engine.training) is deprecated and will be removed in a future version.\n",
      "Instructions for updating:\n",
      "Please use Model.fit, which supports generators.\n",
      "Epoch 1/50\n",
      "12/12 [==============================] - ETA: 0s - loss: 1.0765 - accuracy: 0.4096\n",
      "Epoch 00001: val_loss improved from inf to 0.81494, saving model to ./model\\tea.h5\n",
      "12/12 [==============================] - 8s 669ms/step - loss: 1.0765 - accuracy: 0.4096 - val_loss: 0.8149 - val_accuracy: 0.6667\n",
      "Epoch 2/50\n",
      "12/12 [==============================] - ETA: 0s - loss: 0.9463 - accuracy: 0.5319\n",
      "Epoch 00002: val_loss improved from 0.81494 to 0.73377, saving model to ./model\\tea.h5\n",
      "12/12 [==============================] - 7s 570ms/step - loss: 0.9463 - accuracy: 0.5319 - val_loss: 0.7338 - val_accuracy: 0.7917\n",
      "Epoch 3/50\n",
      "12/12 [==============================] - ETA: 0s - loss: 0.7892 - accuracy: 0.7074\n",
      "Epoch 00003: val_loss improved from 0.73377 to 0.59793, saving model to ./model\\tea.h5\n",
      "12/12 [==============================] - 7s 570ms/step - loss: 0.7892 - accuracy: 0.7074 - val_loss: 0.5979 - val_accuracy: 0.7917\n",
      "Epoch 4/50\n",
      "12/12 [==============================] - ETA: 0s - loss: 0.6726 - accuracy: 0.7656\n",
      "Epoch 00004: val_loss improved from 0.59793 to 0.46822, saving model to ./model\\tea.h5\n",
      "12/12 [==============================] - 8s 657ms/step - loss: 0.6726 - accuracy: 0.7656 - val_loss: 0.4682 - val_accuracy: 0.8750\n",
      "Epoch 5/50\n",
      "12/12 [==============================] - ETA: 0s - loss: 0.5609 - accuracy: 0.8511\n",
      "Epoch 00005: val_loss improved from 0.46822 to 0.31831, saving model to ./model\\tea.h5\n",
      "12/12 [==============================] - 7s 588ms/step - loss: 0.5609 - accuracy: 0.8511 - val_loss: 0.3183 - val_accuracy: 0.8958\n",
      "Epoch 6/50\n",
      "12/12 [==============================] - ETA: 0s - loss: 0.4911 - accuracy: 0.8617\n",
      "Epoch 00006: val_loss improved from 0.31831 to 0.22366, saving model to ./model\\tea.h5\n",
      "12/12 [==============================] - 7s 607ms/step - loss: 0.4911 - accuracy: 0.8617 - val_loss: 0.2237 - val_accuracy: 0.9583\n",
      "Epoch 7/50\n",
      "12/12 [==============================] - ETA: 0s - loss: 0.3586 - accuracy: 0.9255\n",
      "Epoch 00007: val_loss improved from 0.22366 to 0.17964, saving model to ./model\\tea.h5\n",
      "12/12 [==============================] - 7s 572ms/step - loss: 0.3586 - accuracy: 0.9255 - val_loss: 0.1796 - val_accuracy: 0.9583\n",
      "Epoch 8/50\n",
      "12/12 [==============================] - ETA: 0s - loss: 0.2926 - accuracy: 0.9255\n",
      "Epoch 00008: val_loss improved from 0.17964 to 0.15122, saving model to ./model\\tea.h5\n",
      "12/12 [==============================] - 7s 576ms/step - loss: 0.2926 - accuracy: 0.9255 - val_loss: 0.1512 - val_accuracy: 0.9375\n",
      "Epoch 9/50\n",
      "12/12 [==============================] - ETA: 0s - loss: 0.2809 - accuracy: 0.9309\n",
      "Epoch 00009: val_loss improved from 0.15122 to 0.11345, saving model to ./model\\tea.h5\n",
      "12/12 [==============================] - 7s 587ms/step - loss: 0.2809 - accuracy: 0.9309 - val_loss: 0.1134 - val_accuracy: 0.9792\n",
      "Epoch 10/50\n",
      "12/12 [==============================] - ETA: 0s - loss: 0.2495 - accuracy: 0.9149\n",
      "Epoch 00010: val_loss did not improve from 0.11345\n",
      "12/12 [==============================] - 7s 581ms/step - loss: 0.2495 - accuracy: 0.9149 - val_loss: 0.1531 - val_accuracy: 0.9375\n",
      "Epoch 11/50\n",
      "12/12 [==============================] - ETA: 0s - loss: 0.2422 - accuracy: 0.8989\n",
      "Epoch 00011: val_loss improved from 0.11345 to 0.10713, saving model to ./model\\tea.h5\n",
      "12/12 [==============================] - 7s 588ms/step - loss: 0.2422 - accuracy: 0.8989 - val_loss: 0.1071 - val_accuracy: 0.9583\n",
      "Epoch 12/50\n",
      "12/12 [==============================] - ETA: 0s - loss: 0.2183 - accuracy: 0.9362\n",
      "Epoch 00012: val_loss improved from 0.10713 to 0.03946, saving model to ./model\\tea.h5\n",
      "12/12 [==============================] - 7s 552ms/step - loss: 0.2183 - accuracy: 0.9362 - val_loss: 0.0395 - val_accuracy: 1.0000\n",
      "Epoch 13/50\n",
      "12/12 [==============================] - ETA: 0s - loss: 0.1564 - accuracy: 0.9309\n",
      "Epoch 00013: val_loss did not improve from 0.03946\n",
      "12/12 [==============================] - 7s 556ms/step - loss: 0.1564 - accuracy: 0.9309 - val_loss: 0.0540 - val_accuracy: 1.0000\n",
      "Epoch 14/50\n",
      "12/12 [==============================] - ETA: 0s - loss: 0.1465 - accuracy: 0.9628\n",
      "Epoch 00014: val_loss did not improve from 0.03946\n",
      "12/12 [==============================] - 7s 551ms/step - loss: 0.1465 - accuracy: 0.9628 - val_loss: 0.0755 - val_accuracy: 0.9792\n",
      "Epoch 15/50\n",
      "12/12 [==============================] - ETA: 0s - loss: 0.1816 - accuracy: 0.9362\n",
      "Epoch 00015: val_loss did not improve from 0.03946\n",
      "12/12 [==============================] - 7s 582ms/step - loss: 0.1816 - accuracy: 0.9362 - val_loss: 0.0664 - val_accuracy: 0.9583\n",
      "Epoch 16/50\n",
      "12/12 [==============================] - ETA: 0s - loss: 0.1701 - accuracy: 0.9202\n",
      "Epoch 00016: val_loss did not improve from 0.03946\n",
      "12/12 [==============================] - 7s 544ms/step - loss: 0.1701 - accuracy: 0.9202 - val_loss: 0.0528 - val_accuracy: 0.9792\n",
      "Epoch 17/50\n",
      "12/12 [==============================] - ETA: 0s - loss: 0.1762 - accuracy: 0.9043\n",
      "Epoch 00017: val_loss improved from 0.03946 to 0.01633, saving model to ./model\\tea.h5\n",
      "12/12 [==============================] - 7s 588ms/step - loss: 0.1762 - accuracy: 0.9043 - val_loss: 0.0163 - val_accuracy: 1.0000\n",
      "Epoch 18/50\n",
      "12/12 [==============================] - ETA: 0s - loss: 0.1325 - accuracy: 0.9521\n",
      "Epoch 00018: val_loss did not improve from 0.01633\n",
      "12/12 [==============================] - 7s 549ms/step - loss: 0.1325 - accuracy: 0.9521 - val_loss: 0.0676 - val_accuracy: 0.9792\n",
      "Epoch 19/50\n",
      "12/12 [==============================] - ETA: 0s - loss: 0.1314 - accuracy: 0.9521\n",
      "Epoch 00019: val_loss did not improve from 0.01633\n",
      "12/12 [==============================] - 7s 571ms/step - loss: 0.1314 - accuracy: 0.9521 - val_loss: 0.0358 - val_accuracy: 0.9792\n",
      "Epoch 20/50\n",
      "12/12 [==============================] - ETA: 0s - loss: 0.0880 - accuracy: 0.9734\n",
      "Epoch 00020: val_loss did not improve from 0.01633\n",
      "12/12 [==============================] - 7s 555ms/step - loss: 0.0880 - accuracy: 0.9734 - val_loss: 0.0462 - val_accuracy: 0.9792\n",
      "Epoch 21/50\n",
      "12/12 [==============================] - ETA: 0s - loss: 0.1293 - accuracy: 0.9521\n",
      "Epoch 00021: val_loss did not improve from 0.01633\n",
      "12/12 [==============================] - 7s 554ms/step - loss: 0.1293 - accuracy: 0.9521 - val_loss: 0.0313 - val_accuracy: 0.9792\n",
      "Epoch 22/50\n",
      "12/12 [==============================] - ETA: 0s - loss: 0.1235 - accuracy: 0.9628Restoring model weights from the end of the best epoch.\n",
      "\n",
      "Epoch 00022: val_loss did not improve from 0.01633\n",
      "12/12 [==============================] - 7s 561ms/step - loss: 0.1235 - accuracy: 0.9628 - val_loss: 0.0182 - val_accuracy: 1.0000\n",
      "Epoch 00022: early stopping\n"
     ]
    }
   ],
   "source": [
    "nb_train_samples = 204\n",
    "nb_validation_samples = 51\n",
    "\n",
    "epochs = 50\n",
    "batch_size = 16\n",
    "\n",
    "history = model.fit_generator(\n",
    "    train_generator,\n",
    "    steps_per_epoch = nb_train_samples // batch_size,\n",
    "    epochs = epochs,\n",
    "    callbacks = callbacks,\n",
    "    validation_data = validation_generator,\n",
    "    validation_steps = nb_validation_samples // batch_size,\n",
    "    shuffle = True\n",
    ")"
   ]
  },
  {
   "cell_type": "code",
   "execution_count": 8,
   "id": "statistical-desktop",
   "metadata": {},
   "outputs": [],
   "source": [
    "test_labels = test_batches.classes"
   ]
  },
  {
   "cell_type": "code",
   "execution_count": 9,
   "id": "moving-usage",
   "metadata": {},
   "outputs": [
    {
     "data": {
      "text/plain": [
       "array([0, 0, 0, 0, 0, 1, 1, 1, 1, 1, 2, 2, 2, 2, 2])"
      ]
     },
     "execution_count": 9,
     "metadata": {},
     "output_type": "execute_result"
    }
   ],
   "source": [
    "test_labels"
   ]
  },
  {
   "cell_type": "code",
   "execution_count": 10,
   "id": "instructional-implement",
   "metadata": {},
   "outputs": [
    {
     "data": {
      "text/plain": [
       "{'blight': 0, 'red_scab': 1, 'red_spot': 2}"
      ]
     },
     "execution_count": 10,
     "metadata": {},
     "output_type": "execute_result"
    }
   ],
   "source": [
    "test_batches.class_indices"
   ]
  },
  {
   "cell_type": "code",
   "execution_count": 11,
   "id": "north-gibraltar",
   "metadata": {},
   "outputs": [],
   "source": [
    "import itertools"
   ]
  },
  {
   "cell_type": "code",
   "execution_count": 12,
   "id": "authorized-architecture",
   "metadata": {},
   "outputs": [],
   "source": [
    "def plot_confusion_matrix(cm, classes,\n",
    "                          normalize=False,\n",
    "                          title='Confusion matrix',\n",
    "                          cmap=plt.cm.Blues):\n",
    "    \"\"\"\n",
    "    This function prints and plots the confusion matrix.\n",
    "    Normalization can be applied by setting `normalize=True`.\n",
    "    \"\"\"\n",
    "    plt.imshow(cm, interpolation='nearest', cmap=cmap)\n",
    "    plt.title(title)\n",
    "    plt.colorbar()\n",
    "    tick_marks = np.arange(len(classes))\n",
    "    plt.xticks(tick_marks, classes, rotation=45)\n",
    "    plt.yticks(tick_marks, classes)\n",
    "\n",
    "    if normalize:\n",
    "        cm = cm.astype('float') / cm.sum(axis=1)[:, np.newaxis]\n",
    "        print(\"Normalized confusion matrix\")\n",
    "    else:\n",
    "        print('Confusion matrix, without normalization')\n",
    "\n",
    "    print(cm)\n",
    "\n",
    "    thresh = cm.max() / 2.\n",
    "    for i, j in itertools.product(range(cm.shape[0]), range(cm.shape[1])):\n",
    "        plt.text(j,i, cm[i, j],\n",
    "                 horizontalalignment=\"center\",\n",
    "                 color=\"white\" if cm[i, j] > thresh else \"black\")\n",
    "    \n",
    "    plt.tight_layout()\n",
    "    plt.ylabel('True label')\n",
    "    plt.xlabel('Predicted label')"
   ]
  },
  {
   "cell_type": "code",
   "execution_count": 13,
   "id": "demographic-junction",
   "metadata": {},
   "outputs": [
    {
     "name": "stdout",
     "output_type": "stream",
     "text": [
      "WARNING:tensorflow:From <ipython-input-13-acd78ecacfa7>:5: Model.predict_generator (from tensorflow.python.keras.engine.training) is deprecated and will be removed in a future version.\n",
      "Instructions for updating:\n",
      "Please use Model.predict, which supports generators.\n",
      "1/1 [==============================] - 0s 1000us/step\n"
     ]
    }
   ],
   "source": [
    "from keras.models import load_model\n",
    "\n",
    "classifier = load_model('./model/tea.h5')\n",
    "\n",
    "predictions = classifier.predict_generator(test_batches, steps=1, verbose=1)\n"
   ]
  },
  {
   "cell_type": "code",
   "execution_count": 14,
   "id": "organized-fisher",
   "metadata": {},
   "outputs": [],
   "source": [
    "\n",
    "cm = confusion_matrix(test_labels, predictions.argmax(axis=1))"
   ]
  },
  {
   "cell_type": "code",
   "execution_count": 15,
   "id": "endangered-boulder",
   "metadata": {},
   "outputs": [
    {
     "name": "stdout",
     "output_type": "stream",
     "text": [
      "Confusion matrix, without normalization\n",
      "[[5 0 0]\n",
      " [0 5 0]\n",
      " [0 0 5]]\n"
     ]
    },
    {
     "data": {
      "image/png": "[encoded data removed]",
      "text/plain": [
       "<Figure size 432x288 with 2 Axes>"
      ]
     },
     "metadata": {
      "needs_background": "light"
     },
     "output_type": "display_data"
    }
   ],
   "source": [
    "cm_plot_labels = ['blight', 'scab', 'spot']\n",
    "plot_confusion_matrix(cm, cm_plot_labels, title='Confusion Matrix')"
   ]
  },
  {
   "cell_type": "code",
   "execution_count": 16,
   "id": "potential-robinson",
   "metadata": {},
   "outputs": [
    {
     "data": {
      "image/png": "[encoded data removed]",
      "text/plain": [
       "<Figure size 432x288 with 1 Axes>"
      ]
     },
     "metadata": {
      "needs_background": "light"
     },
     "output_type": "display_data"
    },
    {
     "data": {
      "image/png": "[encoded data removed]",
      "text/plain": [
       "<Figure size 432x288 with 1 Axes>"
      ]
     },
     "metadata": {
      "needs_background": "light"
     },
     "output_type": "display_data"
    }
   ],
   "source": [
    "import matplotlib.pyplot as plt\n",
    "\n",
    "plt.plot(history.history['loss'])\n",
    "plt.plot(history.history['val_loss'])\n",
    "plt.title('model loss')\n",
    "plt.ylabel('loss')\n",
    "plt.xlabel('epoch')\n",
    "plt.legend(['train', 'validation'], loc='upper right')\n",
    "plt.show()\n",
    "\n",
    "plt.plot(history.history['accuracy'])\n",
    "plt.plot(history.history['val_accuracy'])\n",
    "plt.title('model accuracy')\n",
    "plt.ylabel('accuracy')\n",
    "plt.xlabel('epoch')\n",
    "plt.legend(['train', 'validation'], loc='upper right')\n",
    "plt.show()"
   ]
  },
  {
   "cell_type": "code",
   "execution_count": null,
   "id": "enhanced-pantyhose",
   "metadata": {},
   "outputs": [],
   "source": []
  },
  {
   "cell_type": "code",
   "execution_count": null,
   "id": "compatible-updating",
   "metadata": {},
   "outputs": [],
   "source": []
  }
 ],
 "metadata": {
  "kernelspec": {
   "display_name": "Python 3",
   "language": "python",
   "name": "python3"
  },
  "language_info": {
   "codemirror_mode": {
    "name": "ipython",
    "version": 3
   },
   "file_extension": ".py",
   "mimetype": "text/x-python",
   "name": "python",
   "nbconvert_exporter": "python",
   "pygments_lexer": "ipython3",
   "version": "3.7.3"
  }
 },
 "nbformat": 4,
 "nbformat_minor": 5
}
