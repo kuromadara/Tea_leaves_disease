{
 "cells": [
  {
   "cell_type": "code",
   "execution_count": 10,
   "id": "elect-bermuda",
   "metadata": {},
   "outputs": [
    {
     "name": "stdout",
     "output_type": "stream",
     "text": [
      "Initialised with 35 image(s) found.\n",
      "Output directory set to ./data/train/blight/output."
     ]
    }
   ],
   "source": [
    "import Augmentor\n",
    "\n",
    "path_to_data = \"./data/train/blight/\"\n",
    "p = Augmentor.Pipeline(path_to_data)"
   ]
  },
  {
   "cell_type": "code",
   "execution_count": 11,
   "id": "subjective-arthur",
   "metadata": {},
   "outputs": [],
   "source": [
    "p.flip_left_right(probability=0.4)\n",
    "p.flip_top_bottom(probability=0.8)\n",
    "p.rotate90(probability=0.1)"
   ]
  },
  {
   "cell_type": "code",
   "execution_count": 12,
   "id": "fallen-force",
   "metadata": {},
   "outputs": [
    {
     "name": "stderr",
     "output_type": "stream",
     "text": [
      "Processing <PIL.Image.Image image mode=RGB size=223x259 at 0x1DAFDD046A0>: 100%|██████████| 50/50 [00:00<00:00, 191.55 Samples/s]                 \n"
     ]
    }
   ],
   "source": [
    "num_of_samples = 50\n",
    "p.sample(num_of_samples)"
   ]
  },
  {
   "cell_type": "code",
   "execution_count": null,
   "id": "median-chase",
   "metadata": {},
   "outputs": [],
   "source": []
  }
 ],
 "metadata": {
  "kernelspec": {
   "display_name": "Python 3",
   "language": "python",
   "name": "python3"
  },
  "language_info": {
   "codemirror_mode": {
    "name": "ipython",
    "version": 3
   },
   "file_extension": ".py",
   "mimetype": "text/x-python",
   "name": "python",
   "nbconvert_exporter": "python",
   "pygments_lexer": "ipython3",
   "version": "3.6.12"
  }
 },
 "nbformat": 4,
 "nbformat_minor": 5
}
